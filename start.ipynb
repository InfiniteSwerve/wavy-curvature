{
 "cells": [
  {
   "cell_type": "code",
   "execution_count": 32,
   "metadata": {},
   "outputs": [],
   "source": [
    "import jax\n",
    "import jax.numpy as jnp\n",
    "from jax import random, grad, value_and_grad\n",
    "from jax.nn import relu, softmax\n",
    "import einops\n",
    "from showmethetypes import SMTT\n",
    "from optax import sgd, apply_updates"
   ]
  },
  {
   "cell_type": "code",
   "execution_count": 8,
   "metadata": {},
   "outputs": [],
   "source": [
    "tt = SMTT()"
   ]
  },
  {
   "cell_type": "code",
   "execution_count": null,
   "metadata": {},
   "outputs": [],
   "source": [
    "\"\"\"\n",
    "What am I doing?\n",
    "I need a loss function that takes in the weights of an MLP embedding (or I guess the whole MLP) and gives you the loss (maybe across the whole dataset\n",
    "\n",
    "How can I start out?\n",
    "1. by making a linear regression\n",
    "2. making a logistic regression (adding a nonlinearity)\n",
    "3. Making the rest of the MLP\n",
    "\n",
    "1.\n",
    "y = ax + b\n",
    "\"\"\""
   ]
  },
  {
   "cell_type": "code",
   "execution_count": 2,
   "metadata": {},
   "outputs": [],
   "source": [
    "class regressor:\n",
    "    def __init__(self):\n",
    "        initializer = jax.nn.initializers.he_normal()\n",
    "        self.params = initializer(jax.random.PRNGKey(42), (1, 2), jnp.float32)\n",
    "\n",
    "    def forward(self, data):\n",
    "        return self.params[0] * data + self.params[1]"
   ]
  },
  {
   "cell_type": "code",
   "execution_count": 3,
   "metadata": {},
   "outputs": [],
   "source": [
    "initializer = jax.nn.initializers.he_normal()\n",
    "params = initializer(jax.random.PRNGKey(43), (1, 2), jnp.float32)"
   ]
  },
  {
   "cell_type": "code",
   "execution_count": 4,
   "metadata": {},
   "outputs": [
    {
     "data": {
      "text/plain": [
       "Array([[-1.940299  ,  0.13722903]], dtype=float32)"
      ]
     },
     "execution_count": 4,
     "metadata": {},
     "output_type": "execute_result"
    }
   ],
   "source": [
    "params"
   ]
  },
  {
   "cell_type": "code",
   "execution_count": 5,
   "metadata": {},
   "outputs": [],
   "source": [
    "uniform_init = jax.nn.initializers.uniform(100)\n",
    "true_params = uniform_init(jax.random.PRNGKey(43), (1, 2), jnp.float32)\n",
    "true_a = true_params[1]\n",
    "true_b = true_params[0]"
   ]
  },
  {
   "cell_type": "code",
   "execution_count": 16,
   "metadata": {},
   "outputs": [],
   "source": [
    "xs = uniform_init(jax.random.PRNGKey(43), (1000, 1), jnp.float32)\n",
    "ys = true_a * xs + true_b"
   ]
  },
  {
   "cell_type": "code",
   "execution_count": 18,
   "metadata": {},
   "outputs": [],
   "source": [
    "def mse(pred, target):\n",
    "    return jnp.mean((pred - target) ** 2)"
   ]
  },
  {
   "cell_type": "code",
   "execution_count": 19,
   "metadata": {},
   "outputs": [
    {
     "data": {
      "text/plain": [
       "Array(0.5, dtype=float32)"
      ]
     },
     "execution_count": 19,
     "metadata": {},
     "output_type": "execute_result"
    }
   ],
   "source": [
    "mse(jnp.array([2, 1]), jnp.array([1]))"
   ]
  },
  {
   "cell_type": "code",
   "execution_count": 26,
   "metadata": {},
   "outputs": [],
   "source": [
    "def loss_fn(params, loss_fn, xs, ys):\n",
    "    preds = params[0] * xs + params[1]\n",
    "    return loss_fn(preds, ys)"
   ]
  },
  {
   "cell_type": "code",
   "execution_count": 20,
   "metadata": {},
   "outputs": [
    {
     "data": {
      "text/plain": [
       "Array([1., 0.], dtype=float32)"
      ]
     },
     "execution_count": 20,
     "metadata": {},
     "output_type": "execute_result"
    }
   ],
   "source": [
    "grad(mse)(jnp.array([2, 1], dtype=jnp.float32), jnp.array([1, 1], dtype=jnp.float32))"
   ]
  },
  {
   "cell_type": "code",
   "execution_count": 22,
   "metadata": {},
   "outputs": [
    {
     "data": {
      "text/plain": [
       "Array([[ -78.47896 ,   19.433558],\n",
       "       [-236.83218 ,   58.646194],\n",
       "       [-162.63159 ,   40.27208 ],\n",
       "       ...,\n",
       "       [ -71.13399 ,   17.61474 ],\n",
       "       [ -38.326168,    9.490619],\n",
       "       [-221.83112 ,   54.93152 ]], dtype=float32)"
      ]
     },
     "execution_count": 22,
     "metadata": {},
     "output_type": "execute_result"
    }
   ],
   "source": [
    "model.forward(xs)"
   ]
  },
  {
   "cell_type": "code",
   "execution_count": 39,
   "metadata": {},
   "outputs": [],
   "source": [
    "model = regressor()\n",
    "params = model.params\n",
    "solver = sgd(learning_rate=3e-9)\n",
    "optimizer = solver.init(params)\n",
    "epochs = 10"
   ]
  },
  {
   "cell_type": "code",
   "execution_count": 40,
   "metadata": {},
   "outputs": [
    {
     "name": "stdout",
     "output_type": "stream",
     "text": [
      "Loss: 5147373.0\n",
      "Loss: 5383.748046875\n",
      "Loss: 5.630852699279785\n",
      "Loss: 0.005902229808270931\n",
      "Loss: 6.154059519758448e-06\n",
      "Loss: 3.2639984937077315e-08\n",
      "Loss: 0.0\n",
      "Loss: 0.0\n",
      "Loss: 0.0\n",
      "Loss: 0.0\n"
     ]
    }
   ],
   "source": [
    "for epoch in range(epochs):\n",
    "    loss, grad = value_and_grad(loss_fn)(params, mse, xs, ys)\n",
    "    print(f\"Loss: {loss}\")\n",
    "    updates, opt_state = solver.update(grad, optimizer, params)\n",
    "    params = apply_updates(params, updates)"
   ]
  },
  {
   "cell_type": "code",
   "execution_count": 41,
   "metadata": {},
   "outputs": [
    {
     "data": {
      "text/plain": [
       "\"\\nHooray! We've got a linear regressor\\n\""
      ]
     },
     "execution_count": 41,
     "metadata": {},
     "output_type": "execute_result"
    }
   ],
   "source": [
    "\"\"\"\n",
    "Hooray! We've got a linear regressor\n",
    "\"\"\""
   ]
  }
 ],
 "metadata": {
  "kernelspec": {
   "display_name": "jax",
   "language": "python",
   "name": "python3"
  },
  "language_info": {
   "codemirror_mode": {
    "name": "ipython",
    "version": 3
   },
   "file_extension": ".py",
   "mimetype": "text/x-python",
   "name": "python",
   "nbconvert_exporter": "python",
   "pygments_lexer": "ipython3",
   "version": "3.12.1"
  }
 },
 "nbformat": 4,
 "nbformat_minor": 2
}
