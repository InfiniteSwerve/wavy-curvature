{
 "cells": [
  {
   "cell_type": "code",
   "execution_count": 11,
   "metadata": {},
   "outputs": [],
   "source": [
    "import jax\n",
    "import jax.numpy as jnp\n",
    "from jax import random, grad, value_and_grad\n",
    "from jax.nn import relu, softmax\n",
    "import einops\n",
    "from showmethetypes import SMTT\n",
    "from optax import sgd, apply_updates"
   ]
  },
  {
   "cell_type": "code",
   "execution_count": 12,
   "metadata": {},
   "outputs": [],
   "source": [
    "class regressor:\n",
    "    def __init__(self):\n",
    "        initializer = jax.nn.initializers.he_normal()\n",
    "        self.W_in = initializer(jax.random.PRNGKey(42), (113, 64), jnp.float32)\n",
    "        self.W_out = initializer(jax.random.PRNGKey(42), (128, 113), jnp.float32)\n",
    "        self.nonlinearity = relu\n",
    "        self.parameters = [self.W_in, self.W_out]\n",
    "\n",
    "    def forward(self, data):\n",
    "        l = self.W_in[data[0]]\n",
    "        r = self.W_in[data[1]]\n",
    "\n",
    "        emb = jnp.concatenate([l, r])\n",
    "        return relu(emb) @ self.W_out"
   ]
  },
  {
   "cell_type": "code",
   "execution_count": 13,
   "metadata": {},
   "outputs": [],
   "source": [
    "def mse(pred, target):\n",
    "    return jnp.mean((pred - target) ** 2)"
   ]
  },
  {
   "cell_type": "code",
   "execution_count": 14,
   "metadata": {},
   "outputs": [],
   "source": [
    "def loss_fn(params, loss_fn, xs, ys):\n",
    "    W_in, W_out = params[0], params[1]\n",
    "    l = W_in[xs[0]]\n",
    "    r = W_in[xs[1]]\n",
    "\n",
    "    emb = jnp.concatenate([l, r], axis=1)\n",
    "\n",
    "    pred = relu(emb) @ W_out\n",
    "    logits = jnp.mean(pred, axis=0)\n",
    "    print(logits.shape)\n",
    "    return -loss_fn(logits, ys)"
   ]
  },
  {
   "cell_type": "code",
   "execution_count": 15,
   "metadata": {},
   "outputs": [],
   "source": [
    "oot = jnp.array([i for i in range(113)])\n",
    "row = einops.repeat(oot, \"r -> r c\", c=113)\n",
    "col = row.T\n",
    "row = einops.rearrange(row, \"r c -> (r c)\")\n",
    "col = einops.rearrange(col, \"r c -> (r c)\")\n",
    "xs = jnp.stack([row, col])\n",
    "\n",
    "ys = jax.nn.one_hot(row * col, 113)"
   ]
  },
  {
   "cell_type": "code",
   "execution_count": 16,
   "metadata": {},
   "outputs": [
    {
     "name": "stdout",
     "output_type": "stream",
     "text": [
      "(12769, 113)\n"
     ]
    }
   ],
   "source": [
    "print(ys.shape)"
   ]
  },
  {
   "cell_type": "code",
   "execution_count": 17,
   "metadata": {},
   "outputs": [],
   "source": [
    "model = regressor()\n",
    "params = model.parameters\n",
    "solver = sgd(learning_rate=30, momentum=0.2)\n",
    "optimizer = solver.init(params)\n",
    "epochs = 10"
   ]
  },
  {
   "cell_type": "code",
   "execution_count": 20,
   "metadata": {},
   "outputs": [
    {
     "data": {
      "text/plain": [
       "Array([1., 0., 0., 0., 0., 0., 0., 0., 0., 0., 0., 0., 0., 0., 0., 0., 0.,\n",
       "       0., 0., 0., 0., 0., 0., 0., 0., 0., 0., 0., 0., 0., 0., 0., 0., 0.,\n",
       "       0., 0., 0., 0., 0., 0., 0., 0., 0., 0., 0., 0., 0., 0., 0., 0., 0.,\n",
       "       0., 0., 0., 0., 0., 0., 0., 0., 0., 0., 0., 0., 0., 0., 0., 0., 0.,\n",
       "       0., 0., 0., 0., 0., 0., 0., 0., 0., 0., 0., 0., 0., 0., 0., 0., 0.,\n",
       "       0., 0., 0., 0., 0., 0., 0., 0., 0., 0., 0., 0., 0., 0., 0., 0., 0.,\n",
       "       0., 0., 0., 0., 0., 0., 0., 0., 0., 0., 0.], dtype=float32)"
      ]
     },
     "execution_count": 20,
     "metadata": {},
     "output_type": "execute_result"
    }
   ],
   "source": [
    "ys[1]"
   ]
  },
  {
   "cell_type": "code",
   "execution_count": 22,
   "metadata": {},
   "outputs": [
    {
     "data": {
      "text/plain": [
       "Array([ 0.04267131, -0.03805638, -0.17450848, -0.01736136, -0.00368068,\n",
       "        0.16894473, -0.13843809,  0.09179612,  0.15945284, -0.19543816,\n",
       "       -0.00710924, -0.07168756, -0.20479256,  0.04670107,  0.21704043,\n",
       "       -0.04665428, -0.2114431 ,  0.22236507, -0.13043669,  0.11875629,\n",
       "       -0.04315519, -0.04645056, -0.22517869, -0.329479  , -0.29496247,\n",
       "       -0.23088296,  0.32569015,  0.08745132,  0.09596004, -0.06016586,\n",
       "        0.14054558, -0.17426753, -0.11412124, -0.07116443, -0.20031852,\n",
       "        0.06302016,  0.02788424, -0.00630307, -0.30521145,  0.00481466,\n",
       "       -0.05119161, -0.07668882, -0.21699896, -0.15560207, -0.05269596,\n",
       "       -0.21378863,  0.34839845,  0.15465759,  0.00795331,  0.17334522,\n",
       "        0.01560128,  0.04274034, -0.05091236,  0.1054142 ,  0.24133027,\n",
       "       -0.19889037, -0.03527186, -0.01436651, -0.04284835,  0.10262948,\n",
       "       -0.11394368, -0.00486074, -0.06071401, -0.0544565 ,  0.23919182,\n",
       "        0.00043497,  0.00769247, -0.14868787,  0.14559108,  0.24426132,\n",
       "        0.26536572, -0.31862867, -0.00626763,  0.10707985, -0.09314825,\n",
       "        0.15129995,  0.07131018,  0.019757  ,  0.09659804,  0.15854937,\n",
       "        0.24689448, -0.13508534, -0.02285402,  0.00230964, -0.09287322,\n",
       "        0.16205727,  0.04268484,  0.06439716,  0.0411074 ,  0.25281772,\n",
       "        0.05937187, -0.01677674,  0.0584329 ,  0.08513194,  0.07690968,\n",
       "       -0.09125575,  0.12692499, -0.20628491,  0.10315114, -0.12517205,\n",
       "       -0.10418232,  0.2117231 ,  0.08303173,  0.08596113, -0.3335893 ,\n",
       "        0.02047361, -0.03395538, -0.2294783 ,  0.20424587, -0.13956994,\n",
       "        0.09747046,  0.04970123,  0.25406843], dtype=float32)"
      ]
     },
     "execution_count": 22,
     "metadata": {},
     "output_type": "execute_result"
    }
   ],
   "source": [
    "model.forward(jnp.array([0, 1]))"
   ]
  },
  {
   "cell_type": "code",
   "execution_count": 24,
   "metadata": {},
   "outputs": [
    {
     "name": "stdout",
     "output_type": "stream",
     "text": [
      "(113,)\n"
     ]
    },
    {
     "data": {
      "text/plain": [
       "Array(0.02196129, dtype=float32)"
      ]
     },
     "execution_count": 24,
     "metadata": {},
     "output_type": "execute_result"
    }
   ],
   "source": [
    "loss_fn(model.parameters, mse, jnp.array([[0, 1]]), ys[1])"
   ]
  },
  {
   "cell_type": "code",
   "execution_count": 19,
   "metadata": {},
   "outputs": [
    {
     "name": "stdout",
     "output_type": "stream",
     "text": [
      "(113,)\n",
      "Loss: 0.00833863951265812\n",
      "(113,)\n",
      "Loss: 0.0051587349735200405\n",
      "(113,)\n",
      "Loss: 0.0033300260547548532\n",
      "(113,)\n",
      "Loss: 0.0022443023044615984\n",
      "(113,)\n",
      "Loss: 0.0015877812402322888\n",
      "(113,)\n",
      "Loss: 0.00118648714851588\n",
      "(113,)\n",
      "Loss: 0.000939269841182977\n",
      "(113,)\n",
      "Loss: 0.0007863908540457487\n",
      "(113,)\n",
      "Loss: 0.000691707362420857\n",
      "(113,)\n",
      "Loss: 0.0006326906732283533\n"
     ]
    }
   ],
   "source": [
    "for epoch in range(epochs):\n",
    "    loss, grad = value_and_grad(loss_fn)(params, mse, xs, ys)\n",
    "    print(f\"Loss: {loss}\")\n",
    "    updates, opt_state = solver.update(grad, optimizer, params)\n",
    "    params = apply_updates(params, updates)"
   ]
  }
 ],
 "metadata": {
  "kernelspec": {
   "display_name": "jax",
   "language": "python",
   "name": "python3"
  },
  "language_info": {
   "codemirror_mode": {
    "name": "ipython",
    "version": 3
   },
   "file_extension": ".py",
   "mimetype": "text/x-python",
   "name": "python",
   "nbconvert_exporter": "python",
   "pygments_lexer": "ipython3",
   "version": "3.12.1"
  }
 },
 "nbformat": 4,
 "nbformat_minor": 2
}
